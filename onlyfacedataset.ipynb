{
 "cells": [
  {
   "cell_type": "code",
   "execution_count": 9,
   "metadata": {},
   "outputs": [],
   "source": [
    "import cv2\n",
    "import os\n",
    "import time\n",
    "count = 1\n",
    "facedetect = cv2.CascadeClassifier(cv2.data.haarcascades + 'haarcascade_frontalface_default.xml')\n",
    "path = r'C:\\Users\\admin\\Desktop\\Python\\Face recognition\\Dataset'\n",
    "name = input('Enter your name.')\n",
    "path = os.path.join(path,name)\n",
    "os.mkdir(path)\n",
    "vid = cv2.VideoCapture(0)\n",
    "while True:\n",
    "    ret,frame = vid.read()\n",
    "    gray=cv2.cvtColor(frame,cv2.COLOR_BGR2GRAY)\n",
    "    resize = cv2.resize(gray,(650,450))\n",
    "    faces = facedetect.detectMultiScale(gray,1.3,5)\n",
    "    for x,y,w,h in faces:\n",
    "        cv2.imshow('Image124',resize)\n",
    "        cv2.rectangle(resize,(x,y),(x+h,y+w),(23,53,100),4)\n",
    "        cv2.imwrite(os.path.join(path,'image{}.jpg'.format(count)),resize[x:x+w+10,y:y+h+10])\n",
    "        # time.sleep(1)\n",
    "        count += 1\n",
    "    time.sleep(1)\n",
    "    key = cv2.waitKey(1)\n",
    "    if key == ord('q'):\n",
    "    # if cv2.waitKey(1) and 0xff == ord('q'):\n",
    "        break\n",
    "    \n",
    "vid.release()\n",
    "cv2.destroyAllWindows()\n"
   ]
  },
  {
   "cell_type": "code",
   "execution_count": null,
   "metadata": {},
   "outputs": [],
   "source": []
  }
 ],
 "metadata": {
  "kernelspec": {
   "display_name": "Python 3",
   "language": "python",
   "name": "python3"
  },
  "language_info": {
   "codemirror_mode": {
    "name": "ipython",
    "version": 3
   },
   "file_extension": ".py",
   "mimetype": "text/x-python",
   "name": "python",
   "nbconvert_exporter": "python",
   "pygments_lexer": "ipython3",
   "version": "3.11.5"
  },
  "orig_nbformat": 4
 },
 "nbformat": 4,
 "nbformat_minor": 2
}
