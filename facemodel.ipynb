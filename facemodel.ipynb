{
 "cells": [
  {
   "cell_type": "code",
   "execution_count": 32,
   "metadata": {},
   "outputs": [
    {
     "name": "stdout",
     "output_type": "stream",
     "text": [
      "['C:\\\\Users\\\\admin\\\\Desktop\\\\Python\\\\Face recognition\\\\Dataset\\\\face', 'C:\\\\Users\\\\admin\\\\Desktop\\\\Python\\\\Face recognition\\\\Dataset\\\\suresh', 'C:\\\\Users\\\\admin\\\\Desktop\\\\Python\\\\Face recognition\\\\Dataset\\\\Suroj']\n",
      "C:\\Users\\admin\\Desktop\\Python\\Face recognition\\Dataset\\face\n",
      "C:\\Users\\admin\\Desktop\\Python\\Face recognition\\Dataset\\face\\image1.jpg\n",
      "C:\\Users\\admin\\Desktop\\Python\\Face recognition\\Dataset\\face\\image2.jpg\n",
      "C:\\Users\\admin\\Desktop\\Python\\Face recognition\\Dataset\\face\\image3.jpg\n",
      "C:\\Users\\admin\\Desktop\\Python\\Face recognition\\Dataset\\face\\image4.jpg\n",
      "C:\\Users\\admin\\Desktop\\Python\\Face recognition\\Dataset\\face\\image5.jpg\n",
      "C:\\Users\\admin\\Desktop\\Python\\Face recognition\\Dataset\\suresh\n",
      "C:\\Users\\admin\\Desktop\\Python\\Face recognition\\Dataset\\suresh\\image1.jpg\n",
      "C:\\Users\\admin\\Desktop\\Python\\Face recognition\\Dataset\\suresh\\image2.jpg\n",
      "C:\\Users\\admin\\Desktop\\Python\\Face recognition\\Dataset\\suresh\\image3.jpg\n",
      "C:\\Users\\admin\\Desktop\\Python\\Face recognition\\Dataset\\suresh\\image4.jpg\n",
      "C:\\Users\\admin\\Desktop\\Python\\Face recognition\\Dataset\\suresh\\image5.jpg\n",
      "C:\\Users\\admin\\Desktop\\Python\\Face recognition\\Dataset\\suresh\\image6.jpg\n",
      "C:\\Users\\admin\\Desktop\\Python\\Face recognition\\Dataset\\Suroj\n",
      "C:\\Users\\admin\\Desktop\\Python\\Face recognition\\Dataset\\Suroj\\image1.jpg\n",
      "C:\\Users\\admin\\Desktop\\Python\\Face recognition\\Dataset\\Suroj\\image10.jpg\n",
      "C:\\Users\\admin\\Desktop\\Python\\Face recognition\\Dataset\\Suroj\\image11.jpg\n",
      "C:\\Users\\admin\\Desktop\\Python\\Face recognition\\Dataset\\Suroj\\image12.jpg\n",
      "C:\\Users\\admin\\Desktop\\Python\\Face recognition\\Dataset\\Suroj\\image2.jpg\n",
      "C:\\Users\\admin\\Desktop\\Python\\Face recognition\\Dataset\\Suroj\\image3.jpg\n",
      "C:\\Users\\admin\\Desktop\\Python\\Face recognition\\Dataset\\Suroj\\image4.jpg\n",
      "C:\\Users\\admin\\Desktop\\Python\\Face recognition\\Dataset\\Suroj\\image5.jpg\n",
      "C:\\Users\\admin\\Desktop\\Python\\Face recognition\\Dataset\\Suroj\\image6.jpg\n",
      "C:\\Users\\admin\\Desktop\\Python\\Face recognition\\Dataset\\Suroj\\image7.jpg\n",
      "C:\\Users\\admin\\Desktop\\Python\\Face recognition\\Dataset\\Suroj\\image8.jpg\n",
      "C:\\Users\\admin\\Desktop\\Python\\Face recognition\\Dataset\\Suroj\\image9.jpg\n"
     ]
    }
   ],
   "source": [
    "import os\n",
    "import cv2\n",
    "import numpy\n",
    "\n",
    "path = r'C:\\Users\\admin\\Desktop\\Python\\Face recognition\\Dataset'\n",
    "\n",
    "def getImage(path):\n",
    "    folder_path = [os.path.join(path,foldername) for foldername in os.listdir(path)]\n",
    "    print(folder_path)\n",
    "    for file in folder_path:\n",
    "        print(file)\n",
    "        for imagename in os.listdir(file):\n",
    "            image_path = os.path.join(file,imagename)\n",
    "            print(image_path)\n",
    "        \n",
    "getImage(path)\n",
    "\n"
   ]
  }
 ],
 "metadata": {
  "kernelspec": {
   "display_name": "Python 3",
   "language": "python",
   "name": "python3"
  },
  "language_info": {
   "codemirror_mode": {
    "name": "ipython",
    "version": 3
   },
   "file_extension": ".py",
   "mimetype": "text/x-python",
   "name": "python",
   "nbconvert_exporter": "python",
   "pygments_lexer": "ipython3",
   "version": "3.11.5"
  },
  "orig_nbformat": 4
 },
 "nbformat": 4,
 "nbformat_minor": 2
}
