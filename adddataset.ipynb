{
 "cells": [
  {
   "cell_type": "code",
   "execution_count": 11,
   "metadata": {},
   "outputs": [
    {
     "ename": "ModuleNotFoundError",
     "evalue": "No module named 'facemodel'",
     "output_type": "error",
     "traceback": [
      "\u001b[1;31m---------------------------------------------------------------------------\u001b[0m",
      "\u001b[1;31mModuleNotFoundError\u001b[0m                       Traceback (most recent call last)",
      "Cell \u001b[1;32mIn[11], line 4\u001b[0m\n\u001b[0;32m      2\u001b[0m \u001b[39mimport\u001b[39;00m \u001b[39mos\u001b[39;00m\n\u001b[0;32m      3\u001b[0m \u001b[39mimport\u001b[39;00m \u001b[39mtime\u001b[39;00m \n\u001b[1;32m----> 4\u001b[0m \u001b[39mimport\u001b[39;00m \u001b[39mfacemodel\u001b[39;00m\u001b[39m.\u001b[39;00m\u001b[39mipynb\u001b[39;00m \u001b[39mas\u001b[39;00m \u001b[39mfm\u001b[39;00m\n\u001b[0;32m      6\u001b[0m count \u001b[39m=\u001b[39m \u001b[39m1\u001b[39m\n\u001b[0;32m      7\u001b[0m path \u001b[39m=\u001b[39m \u001b[39mr\u001b[39m\u001b[39m'\u001b[39m\u001b[39mC:\u001b[39m\u001b[39m\\\u001b[39m\u001b[39mUsers\u001b[39m\u001b[39m\\\u001b[39m\u001b[39madmin\u001b[39m\u001b[39m\\\u001b[39m\u001b[39mDesktop\u001b[39m\u001b[39m\\\u001b[39m\u001b[39mPython\u001b[39m\u001b[39m\\\u001b[39m\u001b[39mFace recognition\u001b[39m\u001b[39m\\\u001b[39m\u001b[39mDataset\u001b[39m\u001b[39m'\u001b[39m\n",
      "\u001b[1;31mModuleNotFoundError\u001b[0m: No module named 'facemodel'"
     ]
    }
   ],
   "source": [
    "import cv2\n",
    "import os\n",
    "import time \n",
    "\n",
    "count = 1\n",
    "path = r'C:\\Users\\admin\\Desktop\\Python\\Face recognition\\Dataset'\n",
    "name = input('Enter your name.')\n",
    "path = os.path.join(path,name)\n",
    "os.mkdir(path)\n",
    "fm.getImage(path)\n",
    "vid = cv2.VideoCapture(0)\n",
    "while True:\n",
    "    ret,frame = vid.read()\n",
    "    gray=cv2.cvtColor(frame,cv2.COLOR_BGR2GRAY)\n",
    "    resize = cv2.resize(gray,(450,250))\n",
    "    cv2.imshow('Image124',resize)\n",
    "    cv2.imwrite(os.path.join(path,'image{}.jpg'.format(count)),resize)\n",
    "    count += 1\n",
    "    time.sleep(1)\n",
    "    key = cv2.waitKey(1)\n",
    "    if key == ord('q'):\n",
    "    # if cv2.waitKey(1) and 0xff == ord('q'):\n",
    "        break\n",
    "    \n",
    "vid.release()\n",
    "cv2.destroyAllWindows()\n"
   ]
  }
 ],
 "metadata": {
  "kernelspec": {
   "display_name": "Python 3",
   "language": "python",
   "name": "python3"
  },
  "language_info": {
   "codemirror_mode": {
    "name": "ipython",
    "version": 3
   },
   "file_extension": ".py",
   "mimetype": "text/x-python",
   "name": "python",
   "nbconvert_exporter": "python",
   "pygments_lexer": "ipython3",
   "version": "3.11.5"
  },
  "orig_nbformat": 4
 },
 "nbformat": 4,
 "nbformat_minor": 2
}
